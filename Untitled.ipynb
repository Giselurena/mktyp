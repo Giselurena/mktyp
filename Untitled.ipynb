{
 "cells": [
  {
   "cell_type": "markdown",
   "metadata": {},
   "source": [
    "# Gisel's Notebook "
   ]
  },
  {
   "cell_type": "code",
   "execution_count": 1,
   "metadata": {},
   "outputs": [
    {
     "name": "stdout",
     "output_type": "stream",
     "text": [
      "This function will find the area of a polygon \n",
      "Enter the number for side n 12\n",
      "Enter the number for side a 14\n",
      "The area of the polygon is 2194.4458748505.\n"
     ]
    }
   ],
   "source": [
    "import math\n",
    "def polygonArea(n,a):\n",
    "    area = n*a*a/ (4*math.tan(math.pi/n))\n",
    "    return area\n",
    "\n",
    "print(\"This function will find the area of a polygon \")\n",
    "n = int(input(\"Enter the number for side n \"))\n",
    "a = int(input(\"Enter the number for side a \"))\n",
    "\n",
    "area = polygonArea(n,a)\n",
    "print(\"The area of the polygon is \" + str(area) + \".\")\n"
   ]
  },
  {
   "cell_type": "code",
   "execution_count": null,
   "metadata": {},
   "outputs": [],
   "source": []
  }
 ],
 "metadata": {
  "kernelspec": {
   "display_name": "Python 3",
   "language": "python",
   "name": "python3"
  },
  "language_info": {
   "codemirror_mode": {
    "name": "ipython",
    "version": 3
   },
   "file_extension": ".py",
   "mimetype": "text/x-python",
   "name": "python",
   "nbconvert_exporter": "python",
   "pygments_lexer": "ipython3",
   "version": "3.7.0"
  }
 },
 "nbformat": 4,
 "nbformat_minor": 2
}
